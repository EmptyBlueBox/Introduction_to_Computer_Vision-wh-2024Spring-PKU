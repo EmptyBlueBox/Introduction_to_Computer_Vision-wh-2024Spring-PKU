{
 "cells": [
  {
   "cell_type": "code",
   "execution_count": 1,
   "metadata": {},
   "outputs": [
    {
     "name": "stdout",
     "output_type": "stream",
     "text": [
      "[[ 1  2  5  6]\n",
      " [ 2  3  6  7]\n",
      " [ 3  4  7  8]\n",
      " [ 5  6  9 10]\n",
      " [ 6  7 10 11]\n",
      " [ 7  8 11 12]]\n"
     ]
    }
   ],
   "source": [
    "import numpy as np\n",
    "from numpy.lib.stride_tricks import as_strided\n",
    "\n",
    "\n",
    "def sliding_windows(arr, window_shape, step=1):\n",
    "    \"\"\"\n",
    "    从二维数组中提取滑动窗口，每个窗口展平成一维数组，所有窗口形成二维数组。\n",
    "    \n",
    "    参数:\n",
    "    arr -- 输入的二维数组\n",
    "    window_shape -- 窗口的形状，例如(2, 3)\n",
    "    step -- 窗口滑动的步长，默认为1    返回:\n",
    "    一个二维数组，其中每行是一个展平后的滑动窗口\n",
    "    \"\"\"\n",
    "    rows, cols = arr.shape\n",
    "    window_rows, window_cols = window_shape\n",
    "    new_shape = ((rows - window_rows) // step + 1,\n",
    "                 (cols - window_cols) // step + 1,\n",
    "                 window_rows,\n",
    "                 window_cols)\n",
    "    new_strides = (arr.strides[0]*step, arr.strides[1]*step) + arr.strides\n",
    "\n",
    "    strided_arr = as_strided(arr, shape=new_shape, strides=new_strides)\n",
    "    return strided_arr.reshape(-1, window_rows * window_cols)\n",
    "\n",
    "\n",
    "# 示例使用\n",
    "arr = np.array([[1, 2, 3, 4],\n",
    "                [5, 6, 7, 8],\n",
    "                [9, 10, 11, 12]])\n",
    "\n",
    "# 提取 2x2 的滑窗口\n",
    "window_shape = (2, 2)\n",
    "result = sliding_windows(arr, window_shape)\n",
    "\n",
    "print(result)"
   ]
  },
  {
   "cell_type": "code",
   "execution_count": 2,
   "metadata": {},
   "outputs": [
    {
     "name": "stdout",
     "output_type": "stream",
     "text": [
      "[[3 4 5]\n",
      " [3 4 5]]\n"
     ]
    }
   ],
   "source": [
    "arr=np.arange(10)\n",
    "idx=np.array([[3,4,5],[3,4,5]])\n",
    "print(arr[idx])"
   ]
  }
 ],
 "metadata": {
  "kernelspec": {
   "display_name": "CV",
   "language": "python",
   "name": "python3"
  },
  "language_info": {
   "codemirror_mode": {
    "name": "ipython",
    "version": 3
   },
   "file_extension": ".py",
   "mimetype": "text/x-python",
   "name": "python",
   "nbconvert_exporter": "python",
   "pygments_lexer": "ipython3",
   "version": "3.11.8"
  }
 },
 "nbformat": 4,
 "nbformat_minor": 2
}
