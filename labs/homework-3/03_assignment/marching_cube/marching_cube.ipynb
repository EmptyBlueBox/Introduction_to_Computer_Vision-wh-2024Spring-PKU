{
 "cells": [
  {
   "cell_type": "code",
   "execution_count": 1,
   "metadata": {},
   "outputs": [],
   "source": [
    "import numpy as np\n",
    "from lookup_table import CaseNum2EdgeOffset, getCaseNum\n",
    "import trimesh\n",
    "import os\n",
    "import time"
   ]
  },
  {
   "cell_type": "code",
   "execution_count": 2,
   "metadata": {},
   "outputs": [],
   "source": [
    "def marching_cube(thres,cells):\n",
    "    # vertices use dictionary to avoid duplicate axes\n",
    "    vertex_array = {}\n",
    "    vertex_num=0\n",
    "    rep_vertex_num=0\n",
    "    face_array = []\n",
    "    t1 = time.time()\n",
    "    # -------------------TODO------------------ \n",
    "    # compute vertices and faces\n",
    "    # vertices: [N, 3]\n",
    "    # faces: [M, 3], e.g. np.array([[0,1,2]]) means a triangle composed of vertices[0], vertices[1] and vertices[2]\n",
    "    # for-loop is allowed to reduce difficulty\n",
    "    for i in range(cells.shape[0]-1):\n",
    "        for j in range(cells.shape[1]-1):\n",
    "            for k in range(cells.shape[2]-1):\n",
    "                # get the case number\n",
    "                case_num = getCaseNum(i, j,k, thres, cells)\n",
    "                vertice_tmp_stack=[]\n",
    "                \n",
    "                for case in case_num:\n",
    "                    if case==-1:\n",
    "                        break\n",
    "                    edge_corner=CaseNum2EdgeOffset[case]\n",
    "                    value0=cells[i+edge_corner[0],j+edge_corner[1],k+edge_corner[2]]\n",
    "                    value1=cells[i+edge_corner[3],j+edge_corner[4],k+edge_corner[5]]\n",
    "                    alpha=(thres-value0)/(value1-value0)\n",
    "                    xp = i + edge_corner[0] + alpha * (edge_corner[3] - edge_corner[0])\n",
    "                    yp = j + edge_corner[1] + alpha * (edge_corner[4] - edge_corner[1])\n",
    "                    zp = k + edge_corner[2] + alpha * (edge_corner[5] - edge_corner[2])\n",
    "                    vertex_key = (round(xp, 2), round(yp, 2), round(zp, 2))  # Round to avoid floating point precision issues\n",
    "                    # update vertex, add a new vertex\n",
    "                    rep_vertex_num+=1\n",
    "                    if vertex_key not in vertex_array:\n",
    "                        vertex_array[vertex_key]=vertex_num # add new vertex\n",
    "                        vertex_num+=1\n",
    "                    \n",
    "                    # update face, add a new face using vertex index\n",
    "                    vertice_tmp_stack.append(vertex_array[vertex_key])\n",
    "                    if len(vertice_tmp_stack) == 3:\n",
    "                        # Every three vertices form one triangle\n",
    "                        face_array.append(vertice_tmp_stack)\n",
    "                        vertice_tmp_stack=[]\n",
    "                        \n",
    "    # -------------------TODO------------------ \n",
    "    t2 = time.time()\n",
    "    print(\"\\nTime taken by algorithm\\n\"+'-'*40+\"\\n{} s\".format(t2-t1))\n",
    "    vertex_list = list(vertex_array.keys())\n",
    "    vertices = np.array(vertex_list)\n",
    "    faces = np.array(face_array).reshape(-1, 3)\n",
    "    print('rep_vertex_num:',rep_vertex_num,'vertex_num:',vertex_num,'face_num:',faces.shape[0])\n",
    "    print('vertice:',vertices.shape, 'face:',np.array(face_array).shape)\n",
    "    return vertices, faces"
   ]
  },
  {
   "cell_type": "code",
   "execution_count": 3,
   "metadata": {},
   "outputs": [
    {
     "name": "stdout",
     "output_type": "stream",
     "text": [
      "(64, 64, 64)\n",
      "\n",
      "Time taken by algorithm\n",
      "----------------------------------------\n",
      "2.0989558696746826 s\n",
      "rep_vertex_num: 41136 vertex_num: 6833 face_num: 13712\n",
      "vertice: (6833, 3) face: (13712, 3)\n",
      "(64, 64, 64)\n",
      "\n",
      "Time taken by algorithm\n",
      "----------------------------------------\n",
      "2.2527589797973633 s\n",
      "rep_vertex_num: 53808 vertex_num: 8928 face_num: 17936\n",
      "vertice: (8928, 3) face: (17936, 3)\n"
     ]
    },
    {
     "data": {
      "text/plain": [
       "<Figure size 640x480 with 0 Axes>"
      ]
     },
     "metadata": {},
     "output_type": "display_data"
    }
   ],
   "source": [
    "import matplotlib.pyplot as plt\n",
    "# reconstruct these two animals\n",
    "shape_name_lst = ['spot', 'bob']\n",
    "for shape_name in shape_name_lst:\n",
    "    data = np.load(os.path.join('data', shape_name + '_cell.npy'))\n",
    "    print(data.shape)\n",
    "    verts, faces = marching_cube(thres=0, cells=data)\n",
    "    mesh = trimesh.Trimesh(vertices=verts, faces=faces)\n",
    "    mesh.show()\n",
    "\n",
    "    # Save image using matplotlib\n",
    "    mesh_txt = trimesh.exchange.obj.export_obj(mesh)\n",
    "    with open(os.path.join('../results', shape_name + '.obj'),\"w\") as fp:\n",
    "        fp.write(mesh_txt)"
   ]
  }
 ],
 "metadata": {
  "interpreter": {
   "hash": "436b5965732ccf282764bcf9546f770885eff9f048ad24ec0c34e8c61e883580"
  },
  "kernelspec": {
   "display_name": "Python 3.7.4 ('base')",
   "language": "python",
   "name": "python3"
  },
  "language_info": {
   "codemirror_mode": {
    "name": "ipython",
    "version": 3
   },
   "file_extension": ".py",
   "mimetype": "text/x-python",
   "name": "python",
   "nbconvert_exporter": "python",
   "pygments_lexer": "ipython3",
   "version": "3.11.8"
  },
  "orig_nbformat": 4
 },
 "nbformat": 4,
 "nbformat_minor": 2
}
